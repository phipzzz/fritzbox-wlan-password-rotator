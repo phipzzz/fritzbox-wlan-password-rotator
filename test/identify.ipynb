{
 "cells": [
  {
   "cell_type": "markdown",
   "metadata": {},
   "source": [
    "# Identify and test\n",
    "\n",
    "This Jupyter Notebook can be used to identify existing networks on the FRITZ!Box as well as testing updated configurations.\n",
    "\n",
    "Just update following fields in the first code block with your data/credentials. I recomend adding a dedicated user for this only. Same credentials can be used in the fb-guest-pw-rotator application.\n",
    "\n",
    "## Prerequisites\n",
    "- Python3 installed\n",
    "- FritzConnection installed (pip install fritzconnection)\n",
    "\n",
    "## Alternative\n",
    "If you feel more confident with the build-in terminal, you don't have to use this Jupyter Notebook. fritzconnection automatically installs command line tools, which you can access right from your terminal. See [this](https://fritzconnection.readthedocs.io/en/1.14.0/sources/getting_started.html) documentation for further details."
   ]
  },
  {
   "cell_type": "code",
   "execution_count": 88,
   "metadata": {},
   "outputs": [],
   "source": [
    "import json\n",
    "from fritzconnection import FritzConnection\n",
    "\n",
    "addr = \"192.168.178.1\"\n",
    "username = \"user\"\n",
    "pw = \"secretPassword\"\n",
    "\n",
    "fc = FritzConnection(address = addr, user = username, password = pw)"
   ]
  },
  {
   "cell_type": "code",
   "execution_count": null,
   "metadata": {},
   "outputs": [],
   "source": [
    "state = fc.services\n",
    "\n",
    "service_names = list(state.keys())\n",
    "\n",
    "out_json = json.dumps(service_names, indent=4)\n",
    "\n",
    "print(out_json)"
   ]
  },
  {
   "cell_type": "code",
   "execution_count": null,
   "metadata": {},
   "outputs": [],
   "source": [
    "state = fc.call_action(\"WLANConfiguration3\", \"GetInfo\")\n",
    "\n",
    "out_json = json.dumps(state, indent=4)\n",
    "\n",
    "print(out_json)"
   ]
  },
  {
   "cell_type": "code",
   "execution_count": null,
   "metadata": {},
   "outputs": [],
   "source": [
    "state = fc.call_action(\"WLANConfiguration3\", \"GetSecurityKeys\")\n",
    "\n",
    "out_json = json.dumps(state, indent=4)\n",
    "\n",
    "print(out_json)"
   ]
  }
 ],
 "metadata": {
  "kernelspec": {
   "display_name": "Python 3",
   "language": "python",
   "name": "python3"
  },
  "language_info": {
   "codemirror_mode": {
    "name": "ipython",
    "version": 3
   },
   "file_extension": ".py",
   "mimetype": "text/x-python",
   "name": "python",
   "nbconvert_exporter": "python",
   "pygments_lexer": "ipython3",
   "version": "3.13.1"
  }
 },
 "nbformat": 4,
 "nbformat_minor": 2
}
